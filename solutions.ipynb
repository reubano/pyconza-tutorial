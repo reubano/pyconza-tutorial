{
 "cells": [
  {
   "cell_type": "markdown",
   "metadata": {},
   "source": [
    "# Solutions"
   ]
  },
  {
   "cell_type": "markdown",
   "metadata": {},
   "source": [
    "## Schools per district"
   ]
  },
  {
   "cell_type": "code",
   "execution_count": 2,
   "metadata": {
    "collapsed": false
   },
   "outputs": [
    {
     "data": {
      "text/plain": [
       "[{'BUTERE/MUMIAS': 1},\n",
       " {'HOMA BAY': 1},\n",
       " {'KIAMBU': 1},\n",
       " {'MACHAKOS': 1},\n",
       " {'MAKUENI': 1},\n",
       " {'MARAGUA': 2},\n",
       " {'MBEERE': 1},\n",
       " {'MOMBASA': 2},\n",
       " {'NAIROBI': 5},\n",
       " {'TRANS NZOIA': 1}]"
      ]
     },
     "execution_count": 2,
     "metadata": {},
     "output_type": "execute_result"
    }
   ],
   "source": [
    "from riko.collections.sync import SyncPipe\n",
    "schools_url = 'opendata.go.ke/resource/fbd2-c7tq.json'\n",
    "\n",
    "stream = (\n",
    "    SyncPipe('fetchdata', conf={'url': schools_url})\n",
    "        .count(conf={'count_key': 'district'})\n",
    "        .output)\n",
    "\n",
    "list(stream)"
   ]
  },
  {
   "cell_type": "markdown",
   "metadata": {},
   "source": [
    "## Boarding only enrollment per division "
   ]
  },
  {
   "cell_type": "code",
   "execution_count": 4,
   "metadata": {
    "collapsed": false
   },
   "outputs": [
    {
     "data": {
      "text/plain": [
       "[{'ASEGO': Decimal('277')},\n",
       " {'BUTERE': Decimal('224')},\n",
       " {'DAGORETTI': Decimal('903')},\n",
       " {'EMBAKASI': Decimal('138')},\n",
       " {'ISLAND': Decimal('14')},\n",
       " {'KANDARA': Decimal('74')},\n",
       " {'KASIKEU': Decimal('20')},\n",
       " {'KIBERA': Decimal('355')},\n",
       " {'KIKUYU': Decimal('69')},\n",
       " {'KISAUNI': Decimal('424')},\n",
       " {'KWANZA': Decimal('55')},\n",
       " {'MARAGUA': Decimal('265')},\n",
       " {'MWEA': Decimal('93')},\n",
       " {'YATTA': Decimal('160')}]"
      ]
     },
     "execution_count": 4,
     "metadata": {},
     "output_type": "execute_result"
    }
   ],
   "source": [
    "filter_conf = {\n",
    "    'rule': {\n",
    "        'field': 'school_institution_type_2', \n",
    "        'op': 'is', \n",
    "        'value': 'BOARDING ONLY'}}\n",
    "\n",
    "stream = (\n",
    "    SyncPipe('fetchdata', conf={'url': schools_url})\n",
    "        .filter(conf=filter_conf)\n",
    "        .sum(conf={'sum_key': 'total_enrolment', 'group_key': 'division'})\n",
    "        .output)\n",
    "\n",
    "list(stream)"
   ]
  }
 ],
 "metadata": {
  "kernelspec": {
   "display_name": "Python 3",
   "language": "python",
   "name": "python3"
  },
  "language_info": {
   "codemirror_mode": {
    "name": "ipython",
    "version": 3
   },
   "file_extension": ".py",
   "mimetype": "text/x-python",
   "name": "python",
   "nbconvert_exporter": "python",
   "pygments_lexer": "ipython3",
   "version": "3.5.2"
  }
 },
 "nbformat": 4,
 "nbformat_minor": 0
}
