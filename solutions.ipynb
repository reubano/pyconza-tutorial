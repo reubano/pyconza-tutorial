{
 "cells": [
  {
   "cell_type": "markdown",
   "metadata": {},
   "source": [
    "# Solutions"
   ]
  },
  {
   "cell_type": "markdown",
   "metadata": {},
   "source": [
    "## Lowest crime per province (pure python)"
   ]
  },
  {
   "cell_type": "code",
   "execution_count": 1,
   "metadata": {
    "collapsed": false
   },
   "outputs": [
    {
     "name": "stdout",
     "output_type": "stream",
     "text": [
      "FS\n",
      "('All theft not mentioned elsewhere', 2940)\n",
      "GP\n",
      "('Drug-related crime', 5229)\n",
      "KZN\n",
      "('Drug-related crime', 4571)\n",
      "WC\n",
      "('Common assault', 2188)\n"
     ]
    }
   ],
   "source": [
    "from csv import DictReader\n",
    "from io import open\n",
    "from os import path as p\n",
    "from itertools import groupby\n",
    "from operator import itemgetter\n",
    "\n",
    "url = p.abspath('filtered-crime-stats.csv')\n",
    "data = DictReader(open(url))\n",
    "keyfunc = itemgetter('Province')\n",
    "records = sorted(data, key=keyfunc)\n",
    "grouped = groupby(records, keyfunc)\n",
    "\n",
    "for key, group in grouped:\n",
    "    print(key)\n",
    "    keyfunc = itemgetter('Crime')\n",
    "    sub_records = sorted(group, key=keyfunc)\n",
    "    sub_grouped = groupby(sub_records, keyfunc)\n",
    "    low_count, low_key = 0, None\n",
    "     \n",
    "    for sub_key, sub_group in sub_grouped:\n",
    "        count = sum(int(s['Incidents']) for s in sub_group)\n",
    "        if not low_count or count < low_count: \n",
    "            low_count = count\n",
    "            low_key = sub_key\n",
    "\n",
    "    print((low_key, low_count))"
   ]
  },
  {
   "cell_type": "markdown",
   "metadata": {},
   "source": [
    "## Lowest crime per province (meza)"
   ]
  },
  {
   "cell_type": "code",
   "execution_count": 2,
   "metadata": {
    "collapsed": false
   },
   "outputs": [
    {
     "name": "stdout",
     "output_type": "stream",
     "text": [
      "{'Police Station': 'Park Road', 'Incidents': 2940, 'Province': 'FS', 'Crime': 'All theft not mentioned elsewhere', 'Year': 2014}\n",
      "{'Police Station': 'Eldorado Park', 'Incidents': 5229, 'Province': 'GP', 'Crime': 'Drug-related crime', 'Year': 2014}\n",
      "{'Police Station': 'Durban Central', 'Incidents': 4571, 'Province': 'KZN', 'Crime': 'Drug-related crime', 'Year': 2014}\n",
      "{'Police Station': 'Mitchells Plain', 'Incidents': 2188, 'Province': 'WC', 'Crime': 'Common assault', 'Year': 2014}\n"
     ]
    }
   ],
   "source": [
    "from meza.io import read_csv\n",
    "from meza.process import aggregate, group, detect_types, type_cast\n",
    "\n",
    "raw = read_csv(url)\n",
    "records, result = detect_types(raw)\n",
    "casted = type_cast(records, **result)\n",
    "grouped = group(casted, 'Province')\n",
    "\n",
    "for key, _group in grouped:\n",
    "    sub_grouped = group(_group, 'Crime')\n",
    "    aggregated = (\n",
    "        aggregate(sg[1], 'Incidents', sum) for sg in sub_grouped)\n",
    "    keyfunc = itemgetter('Incidents')\n",
    "    print(min(aggregated, key=keyfunc))"
   ]
  }
 ],
 "metadata": {
  "kernelspec": {
   "display_name": "Python 3",
   "language": "python",
   "name": "python3"
  },
  "language_info": {
   "codemirror_mode": {
    "name": "ipython",
    "version": 3
   },
   "file_extension": ".py",
   "mimetype": "text/x-python",
   "name": "python",
   "nbconvert_exporter": "python",
   "pygments_lexer": "ipython3",
   "version": "3.5.2"
  }
 },
 "nbformat": 4,
 "nbformat_minor": 0
}
