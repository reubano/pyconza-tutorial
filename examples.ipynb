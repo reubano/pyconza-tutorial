{
 "cells": [
  {
   "cell_type": "markdown",
   "metadata": {},
   "source": [
    "# Examples"
   ]
  },
  {
   "cell_type": "markdown",
   "metadata": {},
   "source": [
    "## Fetching C4SA data"
   ]
  },
  {
   "cell_type": "markdown",
   "metadata": {
    "collapsed": true
   },
   "source": [
    "In this example, we fetch data from the Code for South Africa API."
   ]
  },
  {
   "cell_type": "code",
   "execution_count": 4,
   "metadata": {
    "collapsed": false
   },
   "outputs": [
    {
     "data": {
      "text/plain": [
       "{'station': 'Aberdeen', 'sum_2014_2015': '1153'}"
      ]
     },
     "execution_count": 4,
     "metadata": {},
     "output_type": "execute_result"
    }
   ],
   "source": [
    "from urllib.request import urlopen\n",
    "from ijson import items\n",
    "\n",
    "# crime-summary\n",
    "url = 'http://data.code4sa.org/resource/qtx7-xbrs.json' \n",
    "f = urlopen(url)\n",
    "data = items(f, 'item')\n",
    "next(data)"
   ]
  },
  {
   "cell_type": "code",
   "execution_count": 5,
   "metadata": {
    "collapsed": false
   },
   "outputs": [
    {
     "data": {
      "text/plain": [
       "{'station': 'Acornhoek', 'sum_2014_2015': '5047'}"
      ]
     },
     "execution_count": 5,
     "metadata": {},
     "output_type": "execute_result"
    }
   ],
   "source": [
    "next(data)"
   ]
  },
  {
   "cell_type": "markdown",
   "metadata": {},
   "source": [
    "## Reading csv"
   ]
  },
  {
   "cell_type": "markdown",
   "metadata": {},
   "source": [
    "Now we will read a csv file"
   ]
  },
  {
   "cell_type": "code",
   "execution_count": 6,
   "metadata": {
    "collapsed": false
   },
   "outputs": [
    {
     "data": {
      "text/plain": [
       "{'Crime': 'All theft not mentioned elsewhere',\n",
       " 'Incidents': '3397',\n",
       " 'Police Station': 'Durban Central',\n",
       " 'Province': 'KZN',\n",
       " 'Year': '2014'}"
      ]
     },
     "execution_count": 6,
     "metadata": {},
     "output_type": "execute_result"
    }
   ],
   "source": [
    "from csv import DictReader\n",
    "from io import open\n",
    "from os import path as p\n",
    "\n",
    "url = p.abspath('filtered-crime-stats.csv')\n",
    "f = open(url)\n",
    "data = DictReader(f)\n",
    "next(data)"
   ]
  },
  {
   "cell_type": "code",
   "execution_count": 7,
   "metadata": {
    "collapsed": false
   },
   "outputs": [
    {
     "data": {
      "text/plain": [
       "{'Crime': 'Drug-related crime',\n",
       " 'Incidents': '2528',\n",
       " 'Police Station': 'Durban Central',\n",
       " 'Province': 'KZN',\n",
       " 'Year': '2014'}"
      ]
     },
     "execution_count": 7,
     "metadata": {},
     "output_type": "execute_result"
    }
   ],
   "source": [
    "next(data)"
   ]
  },
  {
   "cell_type": "markdown",
   "metadata": {},
   "source": [
    "## Reading excel"
   ]
  },
  {
   "cell_type": "markdown",
   "metadata": {
    "collapsed": true
   },
   "source": [
    "Here, we read an xlsx file"
   ]
  },
  {
   "cell_type": "code",
   "execution_count": 8,
   "metadata": {
    "collapsed": false
   },
   "outputs": [
    {
     "data": {
      "text/plain": [
       "['Province', 'Police Station', 'Crime', 'Year', 'Incidents']"
      ]
     },
     "execution_count": 8,
     "metadata": {},
     "output_type": "execute_result"
    }
   ],
   "source": [
    "from xlrd import open_workbook\n",
    "\n",
    "url = p.abspath('filtered-crime-stats.xlsx')\n",
    "book = open_workbook(url)\n",
    "sheet = book.sheet_by_index(0)\n",
    "sheet.row_values(0)"
   ]
  },
  {
   "cell_type": "code",
   "execution_count": 9,
   "metadata": {
    "collapsed": false
   },
   "outputs": [
    {
     "data": {
      "text/plain": [
       "['KZN', 'Durban Central', 'All theft not mentioned elsewhere', 2014.0, 3397.0]"
      ]
     },
     "execution_count": 9,
     "metadata": {},
     "output_type": "execute_result"
    }
   ],
   "source": [
    "sheet.row_values(1)"
   ]
  },
  {
   "cell_type": "markdown",
   "metadata": {},
   "source": [
    "## Screen scraping"
   ]
  },
  {
   "cell_type": "markdown",
   "metadata": {},
   "source": [
    "Now we will read the first table in an html file"
   ]
  },
  {
   "cell_type": "code",
   "execution_count": 10,
   "metadata": {
    "collapsed": false,
    "scrolled": true
   },
   "outputs": [
    {
     "data": {
      "text/plain": [
       "['\\xa0',\n",
       " 'January',\n",
       " 'February',\n",
       " 'March',\n",
       " 'April',\n",
       " 'May',\n",
       " 'June',\n",
       " 'July',\n",
       " 'August',\n",
       " 'September',\n",
       " 'October',\n",
       " 'November',\n",
       " 'December',\n",
       " 'Total to date']"
      ]
     },
     "execution_count": 10,
     "metadata": {},
     "output_type": "execute_result"
    }
   ],
   "source": [
    "import requests\n",
    "from bs4 import BeautifulSoup\n",
    "\n",
    "url = 'https://github.com/reubano/pyconza-tutorial/raw/master/migrants.html'\n",
    "r = requests.get(url)\n",
    "soup = BeautifulSoup(r.text, 'html.parser')\n",
    "\n",
    "def get_data(table):\n",
    "    for row in table.findAll('tr'):\n",
    "        columns = row.findAll('th') or row.findAll('td')\n",
    "        yield [c.getText() for c in columns]\n",
    "\n",
    "table = soup.find('table')\n",
    "data = get_data(table) \n",
    "next(data)"
   ]
  },
  {
   "cell_type": "code",
   "execution_count": 11,
   "metadata": {
    "collapsed": false
   },
   "outputs": [
    {
     "data": {
      "text/plain": [
       "['Mediterranean',\n",
       " '82',\n",
       " '346',\n",
       " '61',\n",
       " '1,244',\n",
       " '95',\n",
       " '\\xa010',\n",
       " '230',\n",
       " '684',\n",
       " '268',\n",
       " '432',\n",
       " '105',\n",
       " '203',\n",
       " '3,760']"
      ]
     },
     "execution_count": 11,
     "metadata": {},
     "output_type": "execute_result"
    }
   ],
   "source": [
    "next(data)"
   ]
  },
  {
   "cell_type": "markdown",
   "metadata": {},
   "source": [
    "## Aggregating data"
   ]
  },
  {
   "cell_type": "markdown",
   "metadata": {},
   "source": [
    "Now we will aggregate data by summing the amounts"
   ]
  },
  {
   "cell_type": "code",
   "execution_count": 12,
   "metadata": {
    "collapsed": false,
    "scrolled": false
   },
   "outputs": [
    {
     "data": {
      "text/plain": [
       "{'a': 'item', 'amount': 900}"
      ]
     },
     "execution_count": 12,
     "metadata": {},
     "output_type": "execute_result"
    }
   ],
   "source": [
    "import itertools as it\n",
    "\n",
    "records = [\n",
    "    {'a': 'item', 'amount': 200},\n",
    "    {'a': 'item', 'amount': 300},\n",
    "    {'a': 'item', 'amount': 400}]\n",
    "\n",
    "key = 'amount'\n",
    "first = records[0]\n",
    "value = sum(r.get(key, 0) for r in records)\n",
    "dict(it.chain(first.items(), [(key, value)]))"
   ]
  },
  {
   "cell_type": "markdown",
   "metadata": {},
   "source": [
    "## Grouping data"
   ]
  },
  {
   "cell_type": "markdown",
   "metadata": {
    "collapsed": true
   },
   "source": [
    "Now we will group data by amount"
   ]
  },
  {
   "cell_type": "code",
   "execution_count": 13,
   "metadata": {
    "collapsed": false
   },
   "outputs": [
    {
     "data": {
      "text/plain": [
       "(200, [{'amount': 200, 'item': 'a'}, {'amount': 200, 'item': 'b'}])"
      ]
     },
     "execution_count": 13,
     "metadata": {},
     "output_type": "execute_result"
    }
   ],
   "source": [
    "import itertools as it\n",
    "from operator import itemgetter\n",
    "\n",
    "records = [\n",
    "    {'item': 'a', 'amount': 200},\n",
    "    {'item': 'b', 'amount': 200},\n",
    "    {'item': 'c', 'amount': 400}]\n",
    "\n",
    "keyfunc = itemgetter('amount')\n",
    "sorted_records = sorted(records, key=keyfunc)\n",
    "grouped = it.groupby(sorted_records, keyfunc)\n",
    "data = ((key, list(group)) for key, group in grouped)\n",
    "next(data)"
   ]
  },
  {
   "cell_type": "code",
   "execution_count": 14,
   "metadata": {
    "collapsed": false
   },
   "outputs": [
    {
     "data": {
      "text/plain": [
       "(400, [{'amount': 400, 'item': 'c'}])"
      ]
     },
     "execution_count": 14,
     "metadata": {},
     "output_type": "execute_result"
    }
   ],
   "source": [
    "next(data)"
   ]
  }
 ],
 "metadata": {
  "kernelspec": {
   "display_name": "Python 3",
   "language": "python",
   "name": "python3"
  },
  "language_info": {
   "codemirror_mode": {
    "name": "ipython",
    "version": 3
   },
   "file_extension": ".py",
   "mimetype": "text/x-python",
   "name": "python",
   "nbconvert_exporter": "python",
   "pygments_lexer": "ipython3",
   "version": "3.5.2"
  }
 },
 "nbformat": 4,
 "nbformat_minor": 0
}
