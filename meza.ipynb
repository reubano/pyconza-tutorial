{
 "cells": [
  {
   "cell_type": "markdown",
   "metadata": {},
   "source": [
    "# meza demo"
   ]
  },
  {
   "cell_type": "markdown",
   "metadata": {},
   "source": [
    "## Reading data"
   ]
  },
  {
   "cell_type": "markdown",
   "metadata": {
    "collapsed": true
   },
   "source": [
    "In this example, we fetch data from the Code for South Africa API."
   ]
  },
  {
   "cell_type": "code",
   "execution_count": 1,
   "metadata": {
    "collapsed": false
   },
   "outputs": [
    {
     "data": {
      "text/plain": [
       "{'station': 'Aberdeen', 'sum_2014_2015': '1153'}"
      ]
     },
     "execution_count": 1,
     "metadata": {},
     "output_type": "execute_result"
    }
   ],
   "source": [
    "from urllib.request import urlopen\n",
    "from meza.io import read_json\n",
    "\n",
    "# crime-summary\n",
    "url = 'http://data.code4sa.org/resource/qtx7-xbrs.json' \n",
    "f = urlopen(url)\n",
    "records = read_json(f)\n",
    "next(records)"
   ]
  },
  {
   "cell_type": "code",
   "execution_count": 2,
   "metadata": {
    "collapsed": false
   },
   "outputs": [
    {
     "data": {
      "text/plain": [
       "{'station': 'Acornhoek', 'sum_2014_2015': '5047'}"
      ]
     },
     "execution_count": 2,
     "metadata": {},
     "output_type": "execute_result"
    }
   ],
   "source": [
    "next(records)"
   ]
  },
  {
   "cell_type": "markdown",
   "metadata": {
    "collapsed": true
   },
   "source": [
    "Now we will read csv from a file like object"
   ]
  },
  {
   "cell_type": "code",
   "execution_count": 3,
   "metadata": {
    "collapsed": false
   },
   "outputs": [
    {
     "data": {
      "text/plain": [
       "{'greeting': 'hello', 'location': 'world'}"
      ]
     },
     "execution_count": 3,
     "metadata": {},
     "output_type": "execute_result"
    }
   ],
   "source": [
    "from io import StringIO\n",
    "from meza.io import read_csv\n",
    "\n",
    "f = StringIO('greeting,location\\nhello,world\\n')\n",
    "records = read_csv(f)\n",
    "next(records)"
   ]
  },
  {
   "cell_type": "markdown",
   "metadata": {
    "collapsed": true
   },
   "source": [
    "Now we will use the universal reader"
   ]
  },
  {
   "cell_type": "code",
   "execution_count": 4,
   "metadata": {
    "collapsed": false
   },
   "outputs": [
    {
     "data": {
      "text/plain": [
       "{'station': 'Aberdeen', 'sum_2014_2015': '1153'}"
      ]
     },
     "execution_count": 4,
     "metadata": {},
     "output_type": "execute_result"
    }
   ],
   "source": [
    "from os import path as p\n",
    "from meza import io\n",
    "\n",
    "url = p.abspath('crime-summary.json')\n",
    "records = io.read(url)\n",
    "next(records)"
   ]
  },
  {
   "cell_type": "markdown",
   "metadata": {
    "collapsed": true
   },
   "source": [
    "Now we will read multiple files into one records iterator"
   ]
  },
  {
   "cell_type": "code",
   "execution_count": 5,
   "metadata": {
    "collapsed": false
   },
   "outputs": [
    {
     "data": {
      "text/plain": [
       "{'station': 'Aberdeen', 'sum_2014_2015': '1153'}"
      ]
     },
     "execution_count": 5,
     "metadata": {},
     "output_type": "execute_result"
    }
   ],
   "source": [
    "url2 = p.abspath('filtered-crime-stats.csv')\n",
    "records = io.join(url, url2)\n",
    "next(records)"
   ]
  },
  {
   "cell_type": "markdown",
   "metadata": {},
   "source": [
    "## Reading excel"
   ]
  },
  {
   "cell_type": "markdown",
   "metadata": {},
   "source": [
    "Here, we read an xlsx file"
   ]
  },
  {
   "cell_type": "code",
   "execution_count": 6,
   "metadata": {
    "collapsed": false
   },
   "outputs": [
    {
     "data": {
      "text/plain": [
       "{'crime': 'All theft not mentioned elsewhere',\n",
       " 'incidents': '3397.0',\n",
       " 'police_station': 'Durban Central',\n",
       " 'province': 'KZN',\n",
       " 'year': '2014.0'}"
      ]
     },
     "execution_count": 6,
     "metadata": {},
     "output_type": "execute_result"
    }
   ],
   "source": [
    "from io import open\n",
    "from meza.io import read_xls\n",
    "\n",
    "url = p.abspath('filtered-crime-stats.xlsx')\n",
    "records = read_xls(url, sanitize=True)\n",
    "next(records)"
   ]
  },
  {
   "cell_type": "code",
   "execution_count": 7,
   "metadata": {
    "collapsed": false
   },
   "outputs": [
    {
     "data": {
      "text/plain": [
       "{'crime': 'Drug-related crime',\n",
       " 'incidents': '2528.0',\n",
       " 'police_station': 'Durban Central',\n",
       " 'province': 'KZN',\n",
       " 'year': '2014.0'}"
      ]
     },
     "execution_count": 7,
     "metadata": {},
     "output_type": "execute_result"
    }
   ],
   "source": [
    "next(records)"
   ]
  },
  {
   "cell_type": "markdown",
   "metadata": {},
   "source": [
    "## Screen scraping"
   ]
  },
  {
   "cell_type": "markdown",
   "metadata": {},
   "source": [
    "Now we will read the first table in an html file"
   ]
  },
  {
   "cell_type": "code",
   "execution_count": 8,
   "metadata": {
    "collapsed": false,
    "scrolled": true
   },
   "outputs": [
    {
     "data": {
      "text/plain": [
       "{'': 'Mediterranean',\n",
       " 'april': '1,244',\n",
       " 'august': '684',\n",
       " 'december': '203',\n",
       " 'february': '346',\n",
       " 'january': '82',\n",
       " 'july': '230',\n",
       " 'june': '\\xa010',\n",
       " 'march': '61',\n",
       " 'may': '95',\n",
       " 'november': '105',\n",
       " 'october': '432',\n",
       " 'september': '268',\n",
       " 'total_to_date': '3,760'}"
      ]
     },
     "execution_count": 8,
     "metadata": {},
     "output_type": "execute_result"
    }
   ],
   "source": [
    "from meza.io import read_html\n",
    "\n",
    "url = p.abspath('migrants.html')\n",
    "records = read_html(url, sanitize=True)\n",
    "next(records)"
   ]
  },
  {
   "cell_type": "code",
   "execution_count": 9,
   "metadata": {
    "collapsed": false
   },
   "outputs": [
    {
     "data": {
      "text/plain": [
       "{'': 'Europe',\n",
       " 'april': '15',\n",
       " 'august': '81',\n",
       " 'december': '3',\n",
       " 'february': '1',\n",
       " 'january': '0',\n",
       " 'july': '11',\n",
       " 'june': '\\xa0 \\xa02',\n",
       " 'march': '2',\n",
       " 'may': '2',\n",
       " 'november': '5',\n",
       " 'october': '6',\n",
       " 'september': '11',\n",
       " 'total_to_date': '139'}"
      ]
     },
     "execution_count": 9,
     "metadata": {},
     "output_type": "execute_result"
    }
   ],
   "source": [
    "next(records)"
   ]
  },
  {
   "cell_type": "markdown",
   "metadata": {},
   "source": [
    "## Aggregating data"
   ]
  },
  {
   "cell_type": "markdown",
   "metadata": {},
   "source": [
    "Now we will aggregate data by summing the amounts"
   ]
  },
  {
   "cell_type": "code",
   "execution_count": 10,
   "metadata": {
    "collapsed": false,
    "scrolled": false
   },
   "outputs": [
    {
     "data": {
      "text/plain": [
       "{'a': 'item', 'amount': 900}"
      ]
     },
     "execution_count": 10,
     "metadata": {},
     "output_type": "execute_result"
    }
   ],
   "source": [
    "from meza.process import aggregate\n",
    "\n",
    "records = [\n",
    "    {'a': 'item', 'amount': 200},\n",
    "    {'a': 'item', 'amount': 300},\n",
    "    {'a': 'item', 'amount': 400}]\n",
    "\n",
    "aggregate(records, 'amount', sum)"
   ]
  },
  {
   "cell_type": "markdown",
   "metadata": {},
   "source": [
    "## Grouping data"
   ]
  },
  {
   "cell_type": "markdown",
   "metadata": {},
   "source": [
    "Now we will group data by amount"
   ]
  },
  {
   "cell_type": "code",
   "execution_count": 11,
   "metadata": {
    "collapsed": false
   },
   "outputs": [
    {
     "data": {
      "text/plain": [
       "(200, [{'amount': 200, 'item': 'a'}, {'amount': 200, 'item': 'b'}])"
      ]
     },
     "execution_count": 11,
     "metadata": {},
     "output_type": "execute_result"
    }
   ],
   "source": [
    "from meza.process import group\n",
    "\n",
    "records = [\n",
    "    {'item': 'a', 'amount': 200},\n",
    "    {'item': 'b', 'amount': 200},\n",
    "    {'item': 'c', 'amount': 400}]\n",
    "\n",
    "grouped = group(records, 'amount')\n",
    "next(grouped)"
   ]
  },
  {
   "cell_type": "code",
   "execution_count": 12,
   "metadata": {
    "collapsed": false
   },
   "outputs": [
    {
     "data": {
      "text/plain": [
       "(400, [{'amount': 400, 'item': 'c'}])"
      ]
     },
     "execution_count": 12,
     "metadata": {},
     "output_type": "execute_result"
    }
   ],
   "source": [
    "next(grouped)"
   ]
  },
  {
   "cell_type": "markdown",
   "metadata": {},
   "source": [
    "## Type casting"
   ]
  },
  {
   "cell_type": "markdown",
   "metadata": {},
   "source": [
    "Now we will detect data types and cast them to native python data structures"
   ]
  },
  {
   "cell_type": "code",
   "execution_count": 13,
   "metadata": {
    "collapsed": false
   },
   "outputs": [
    {
     "data": {
      "text/plain": [
       "[{'id': 'Incidents', 'type': 'int'},\n",
       " {'id': 'Crime', 'type': 'text'},\n",
       " {'id': 'Province', 'type': 'text'},\n",
       " {'id': 'Year', 'type': 'int'},\n",
       " {'id': 'Police Station', 'type': 'text'}]"
      ]
     },
     "execution_count": 13,
     "metadata": {},
     "output_type": "execute_result"
    }
   ],
   "source": [
    "from meza.io import read_csv\n",
    "from meza.process import detect_types, type_cast \n",
    "\n",
    "url = p.abspath('filtered-crime-stats.csv')\n",
    "raw = read_csv(url)\n",
    "records, result = detect_types(raw)\n",
    "result['types']"
   ]
  },
  {
   "cell_type": "code",
   "execution_count": 14,
   "metadata": {
    "collapsed": false
   },
   "outputs": [
    {
     "data": {
      "text/plain": [
       "{'Crime': 'All theft not mentioned elsewhere',\n",
       " 'Incidents': 3397,\n",
       " 'Police Station': 'Durban Central',\n",
       " 'Province': 'KZN',\n",
       " 'Year': 2014}"
      ]
     },
     "execution_count": 14,
     "metadata": {},
     "output_type": "execute_result"
    }
   ],
   "source": [
    "casted = type_cast(records, **result)\n",
    "next(casted)"
   ]
  },
  {
   "cell_type": "code",
   "execution_count": 15,
   "metadata": {
    "collapsed": false
   },
   "outputs": [
    {
     "data": {
      "text/plain": [
       "{'Crime': 'Drug-related crime',\n",
       " 'Incidents': 2528,\n",
       " 'Police Station': 'Durban Central',\n",
       " 'Province': 'KZN',\n",
       " 'Year': 2014}"
      ]
     },
     "execution_count": 15,
     "metadata": {},
     "output_type": "execute_result"
    }
   ],
   "source": [
    "next(casted)"
   ]
  },
  {
   "cell_type": "markdown",
   "metadata": {},
   "source": [
    "## Normalizing data"
   ]
  },
  {
   "cell_type": "markdown",
   "metadata": {},
   "source": [
    "Normalize data into a form that can be inserted into a database"
   ]
  },
  {
   "cell_type": "code",
   "execution_count": 16,
   "metadata": {
    "collapsed": false
   },
   "outputs": [
    {
     "data": {
      "text/plain": [
       "{'color': 'blue', 'length': 5, 'species': 'setosa'}"
      ]
     },
     "execution_count": 16,
     "metadata": {},
     "output_type": "execute_result"
    }
   ],
   "source": [
    "from meza.process import normalize\n",
    "\n",
    "records = [\n",
    "    {'color': 'blue', 'setosa': 5, 'versi': 6},\n",
    "    {'color': 'red', 'setosa': 5, 'versi': 6}]\n",
    "\n",
    "rows = ['setosa', 'versi']\n",
    "data = normalize(records, data='length', column='species', rows=rows)\n",
    "next(data)"
   ]
  },
  {
   "cell_type": "code",
   "execution_count": 17,
   "metadata": {
    "collapsed": false
   },
   "outputs": [
    {
     "data": {
      "text/plain": [
       "{'color': 'blue', 'length': 6, 'species': 'versi'}"
      ]
     },
     "execution_count": 17,
     "metadata": {},
     "output_type": "execute_result"
    }
   ],
   "source": [
    "next(data)"
   ]
  }
 ],
 "metadata": {
  "kernelspec": {
   "display_name": "Python 3",
   "language": "python",
   "name": "python3"
  },
  "language_info": {
   "codemirror_mode": {
    "name": "ipython",
    "version": 3
   },
   "file_extension": ".py",
   "mimetype": "text/x-python",
   "name": "python",
   "nbconvert_exporter": "python",
   "pygments_lexer": "ipython3",
   "version": "3.5.2"
  }
 },
 "nbformat": 4,
 "nbformat_minor": 0
}
