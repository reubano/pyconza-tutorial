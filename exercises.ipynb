{
 "cells": [
  {
   "cell_type": "markdown",
   "metadata": {},
   "source": [
    "# Exercises"
   ]
  },
  {
   "cell_type": "markdown",
   "metadata": {},
   "source": [
    "## Lowest crime per province (pure python)"
   ]
  },
  {
   "cell_type": "markdown",
   "metadata": {},
   "source": [
    "### Description"
   ]
  },
  {
   "cell_type": "markdown",
   "metadata": {},
   "source": [
    "Print the lowest crime activity for each province from the 'filtered-crime-stats' data. Results should look as follows:"
   ]
  },
  {
   "cell_type": "code",
   "execution_count": 5,
   "metadata": {
    "collapsed": false
   },
   "outputs": [
    {
     "data": {
      "text/plain": [
       "('Common assault', 2188)"
      ]
     },
     "execution_count": 5,
     "metadata": {},
     "output_type": "execute_result"
    }
   ],
   "source": [
    "'FS'\n",
    "('All theft not mentioned elsewhere', 2940)\n",
    "'GP'\n",
    "('Drug-related crime', 5229)\n",
    "'KZN'\n",
    "('Drug-related crime', 4571)\n",
    "'WC'\n",
    "('Common assault', 2188)"
   ]
  },
  {
   "cell_type": "markdown",
   "metadata": {},
   "source": [
    "### Hint"
   ]
  },
  {
   "cell_type": "code",
   "execution_count": 6,
   "metadata": {
    "collapsed": false
   },
   "outputs": [
    {
     "name": "stdout",
     "output_type": "stream",
     "text": [
      "key\n",
      "(None, 0)\n"
     ]
    }
   ],
   "source": [
    "from csv import DictReader\n",
    "from io import open\n",
    "from os import path as p\n",
    "from itertools import groupby\n",
    "from operator import itemgetter\n",
    "\n",
    "url = p.abspath('filtered-crime-stats.csv')\n",
    "f = open(url)\n",
    "# ...\n",
    "grouped = [('key', [])]\n",
    "\n",
    "for key, group in grouped:\n",
    "    print(key)\n",
    "    # ...\n",
    "    sub_grouped = [('sub_key', [])]\n",
    "    low_count, low_key = 0, None\n",
    "     \n",
    "    for sub_key, sub_group in sub_grouped:\n",
    "        pass\n",
    "\n",
    "    print((low_key, low_count))"
   ]
  },
  {
   "cell_type": "markdown",
   "metadata": {},
   "source": [
    "## Lowest crime per province (meza)"
   ]
  },
  {
   "cell_type": "markdown",
   "metadata": {},
   "source": [
    "### Description"
   ]
  },
  {
   "cell_type": "markdown",
   "metadata": {},
   "source": [
    "Now perfrom the same task using meza. Results should look as follows:"
   ]
  },
  {
   "cell_type": "code",
   "execution_count": 7,
   "metadata": {
    "collapsed": false
   },
   "outputs": [
    {
     "data": {
      "text/plain": [
       "{'Crime': 'Common assault',\n",
       " 'Incidents': 2188,\n",
       " 'Police Station': 'Mitchells Plain',\n",
       " 'Province': 'WC',\n",
       " 'Year': 2014}"
      ]
     },
     "execution_count": 7,
     "metadata": {},
     "output_type": "execute_result"
    }
   ],
   "source": [
    "{'Police Station': 'Park Road', 'Incidents': 2940, 'Province': 'FS', 'Crime': 'All theft not mentioned elsewhere', 'Year': 2014}\n",
    "{'Police Station': 'Eldorado Park', 'Incidents': 5229, 'Province': 'GP', 'Crime': 'Drug-related crime', 'Year': 2014}\n",
    "{'Police Station': 'Durban Central', 'Incidents': 4571, 'Province': 'KZN', 'Crime': 'Drug-related crime', 'Year': 2014}\n",
    "{'Police Station': 'Mitchells Plain', 'Incidents': 2188, 'Province': 'WC', 'Crime': 'Common assault', 'Year': 2014}"
   ]
  },
  {
   "cell_type": "markdown",
   "metadata": {},
   "source": [
    "### Hint"
   ]
  },
  {
   "cell_type": "code",
   "execution_count": 8,
   "metadata": {
    "collapsed": false
   },
   "outputs": [
    {
     "name": "stdout",
     "output_type": "stream",
     "text": [
      "{}\n"
     ]
    }
   ],
   "source": [
    "from meza.io import read_csv\n",
    "from meza.process import group, detect_types, type_cast\n",
    "\n",
    "# ...\n",
    "grouped = [('key', [])]\n",
    "\n",
    "for key, _group in grouped:\n",
    "    sub_grouped = [('sub_key', [])]\n",
    "    # ...\n",
    "    print({})"
   ]
  }
 ],
 "metadata": {
  "kernelspec": {
   "display_name": "Python 3",
   "language": "python",
   "name": "python3"
  },
  "language_info": {
   "codemirror_mode": {
    "name": "ipython",
    "version": 3
   },
   "file_extension": ".py",
   "mimetype": "text/x-python",
   "name": "python",
   "nbconvert_exporter": "python",
   "pygments_lexer": "ipython3",
   "version": "3.5.2"
  }
 },
 "nbformat": 4,
 "nbformat_minor": 0
}
