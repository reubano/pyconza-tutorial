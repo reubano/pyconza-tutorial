{
 "cells": [
  {
   "cell_type": "markdown",
   "metadata": {},
   "source": [
    "# Exercises"
   ]
  },
  {
   "cell_type": "markdown",
   "metadata": {},
   "source": [
    "## Schools per district"
   ]
  },
  {
   "cell_type": "code",
   "execution_count": 3,
   "metadata": {
    "collapsed": false
   },
   "outputs": [
    {
     "data": {
      "text/plain": [
       "[{'BUTERE/MUMIAS': 1},\n",
       " {'HOMA BAY': 1},\n",
       " {'KIAMBU': 1},\n",
       " {'MACHAKOS': 1},\n",
       " {'MAKUENI': 1},\n",
       " {'MARAGUA': 2},\n",
       " {'MBEERE': 1},\n",
       " {'MOMBASA': 2},\n",
       " {'NAIROBI': 5},\n",
       " {'TRANS NZOIA': 1}]"
      ]
     },
     "execution_count": 3,
     "metadata": {},
     "output_type": "execute_result"
    }
   ],
   "source": [
    "from riko.collections.sync import SyncPipe\n",
    "schools_url = 'opendata.go.ke/resource/fbd2-c7tq.json'\n",
    "\n",
    "count_conf = {'count_key': 'district'}\n",
    "stream = (\n",
    "    SyncPipe('fetchdata', conf={'url': schools_url})\n",
    "        .count(conf=count_conf)\n",
    "        .output)\n",
    "\n",
    "list(stream)"
   ]
  },
  {
   "cell_type": "markdown",
   "metadata": {},
   "source": [
    "## Boarding only enrollment per division "
   ]
  },
  {
   "cell_type": "code",
   "execution_count": 2,
   "metadata": {
    "collapsed": false
   },
   "outputs": [
    {
     "data": {
      "text/plain": [
       "[{'sum': 0}]"
      ]
     },
     "execution_count": 2,
     "metadata": {},
     "output_type": "execute_result"
    }
   ],
   "source": [
    "filter_conf = {'rule': {'field': '', 'op': 'is', 'value': ''}}\n",
    "\n",
    "stream = (\n",
    "    SyncPipe('', conf={})\n",
    "        .filter(conf=filter_conf)\n",
    "        .sum(conf={})\n",
    "        .output)\n",
    "\n",
    "list(stream)"
   ]
  }
 ],
 "metadata": {
  "kernelspec": {
   "display_name": "Python 3",
   "language": "python",
   "name": "python3"
  },
  "language_info": {
   "codemirror_mode": {
    "name": "ipython",
    "version": 3
   },
   "file_extension": ".py",
   "mimetype": "text/x-python",
   "name": "python",
   "nbconvert_exporter": "python",
   "pygments_lexer": "ipython3",
   "version": "3.5.2"
  }
 },
 "nbformat": 4,
 "nbformat_minor": 0
}
